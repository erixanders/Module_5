{
 "cells": [
  {
   "cell_type": "code",
   "execution_count": null,
   "metadata": {},
   "outputs": [],
   "source": [
    "#import matplotlib\n",
    "import matplotlib.pyplot as plt\n",
    "%matplotlib inline\n",
    "%matplotlib widget"
   ]
  },
  {
   "cell_type": "code",
   "execution_count": null,
   "id": "f2258cc2",
   "metadata": {},
   "outputs": [],
   "source": [
    "#5.14\n",
    "# Set the x-axis to a list of strings for each month.\n",
    "x_axis = [\"Jan\", \"Feb\", \"Mar\", \"April\", \"May\", \"June\", \"July\", \"Aug\", \"Sept\", \"Oct\", \"Nov\", \"Dec\"]\n",
    "\n",
    "# Set the y-axis to a list of floats as the total fare in US dollars accumulated for each month.\n",
    "y_axis = [10.02, 23.24, 39.20, 35.42, 32.34, 27.04, 43.82, 10.56, 11.85, 27.90, 20.71, 20.09]\n",
    "\n",
    "# Create the plot and add a label for the legend.\n",
    "plt.plot(x_axis, y_axis, marker=\"*\", color=\"blue\", linewidth=2, label='Boston')\n",
    "# Create labels for the x and y axes.\n",
    "plt.xlabel(\"Date\")\n",
    "plt.ylabel(\"Fare($)\")\n",
    "# Set the y limit between 0 and 45.\n",
    "plt.ylim(0, 45)\n",
    "# Create a title.\n",
    "plt.title(\"PyBer Fare by Month\")\n",
    "# Add the legend.\n",
    "plt.legend()\n",
    "plt.show()"
   ]
  },
  {
   "cell_type": "code",
   "execution_count": null,
   "id": "2db797d9",
   "metadata": {},
   "outputs": [],
   "source": [
    "#5.15 and 5.16 Bar Charts\n",
    "#If the module challenge asks for it, here is how to make the bar horizontal and changes the axes\n",
    "# # Create the plot.\n",
    "#plt.barh(x_axis, y_axis)\n",
    "#plt.gca().invert_yaxis()\n",
    "\n",
    "# Set the x-axis to a list of strings for each month.\n",
    "x_axis = [\"Jan\", \"Feb\", \"Mar\", \"April\", \"May\", \"June\", \"July\", \"Aug\", \"Sept\", \"Oct\", \"Nov\", \"Dec\"]\n",
    "\n",
    "# Set the y-axis to a list of floats as the total fare in US dollars accumulated for each month.\n",
    "y_axis = [10.02, 23.24, 39.20, 35.42, 32.34, 27.04, 43.82, 10.56, 11.85, 27.90, 20.71, 20.09]\n",
    "\n",
    "# Create the plot.\n",
    "plt.bar(x_axis, y_axis, color=\"green\", label='Boston')\n",
    "# Create labels for the x and y axes.\n",
    "plt.xlabel(\"Date\")\n",
    "plt.ylabel(\"Fare($)\")\n",
    "# Create a title.\n",
    "plt.title(\"PyBer Fare by Month\")\n",
    "# Add the legend.\n",
    "plt.legend()\n",
    "plt.show()"
   ]
  },
  {
   "cell_type": "code",
   "execution_count": null,
   "id": "5069671b",
   "metadata": {},
   "outputs": [],
   "source": [
    "#5.17 Scatter\n",
    "# Set the x-axis to a list of strings for each month.\n",
    "x_axis = [\"Jan\", \"Feb\", \"Mar\", \"April\", \"May\", \"June\", \"July\", \"Aug\", \"Sept\", \"Oct\", \"Nov\", \"Dec\"]\n",
    "\n",
    "# Set the y-axis to a list of floats as the total fare in US dollars accumulated for each month.\n",
    "y_axis = [10.02, 23.24, 39.20, 35.42, 32.34, 27.04, 43.82, 10.56, 11.85, 27.90, 20.71, 20.09]\n",
    "\n",
    "plt.plot(x_axis, y_axis, 'o', color = \"red\", label = \"Chicago\")\n",
    "plt.ylabel(\"Date\")\n",
    "plt.xlabel(\"Fare($)\")\n",
    "plt.legend()\n",
    "plt.show()\n"
   ]
  }
 ],
 "metadata": {
  "kernelspec": {
   "display_name": "Python 3.7.15 ('PythonData')",
   "language": "python",
   "name": "python3"
  },
  "language_info": {
   "codemirror_mode": {
    "name": "ipython",
    "version": 3
   },
   "file_extension": ".py",
   "mimetype": "text/x-python",
   "name": "python",
   "nbconvert_exporter": "python",
   "pygments_lexer": "ipython3",
   "version": "3.7.15"
  },
  "vscode": {
   "interpreter": {
    "hash": "70939a2266abc08c76b22d7c1abc2bc8263291567693c23d81cb8fcf7aab2712"
   }
  }
 },
 "nbformat": 4,
 "nbformat_minor": 5
}
