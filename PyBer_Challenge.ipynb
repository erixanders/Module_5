{
 "cells": [
  {
   "cell_type": "markdown",
   "metadata": {},
   "source": [
    "# Pyber Challenge"
   ]
  },
  {
   "cell_type": "markdown",
   "metadata": {},
   "source": [
    "### 4.3 Loading and Reading CSV files"
   ]
  },
  {
   "cell_type": "code",
   "execution_count": 382,
   "metadata": {},
   "outputs": [],
   "source": [
    "# Add Matplotlib inline magic command\n",
    "%matplotlib inline\n",
    "%matplotlib widget\n",
    "# Dependencies and Setup\n",
    "import matplotlib.pyplot as plt\n",
    "import pandas as pd\n",
    "\n",
    "# File to Load (Remember to check these)\n",
    "city_data_to_load = \"Resources/city_data.csv\"\n",
    "ride_data_to_load = \"Resources/ride_data.csv\"\n",
    "\n",
    "# Read the City and Ride Data\n",
    "city_data_df = pd.read_csv(city_data_to_load)\n",
    "ride_data_df = pd.read_csv(ride_data_to_load)"
   ]
  },
  {
   "cell_type": "markdown",
   "metadata": {},
   "source": [
    "### Merge the DataFrames"
   ]
  },
  {
   "cell_type": "code",
   "execution_count": 383,
   "metadata": {
    "scrolled": true
   },
   "outputs": [
    {
     "data": {
      "text/html": [
       "<div>\n",
       "<style scoped>\n",
       "    .dataframe tbody tr th:only-of-type {\n",
       "        vertical-align: middle;\n",
       "    }\n",
       "\n",
       "    .dataframe tbody tr th {\n",
       "        vertical-align: top;\n",
       "    }\n",
       "\n",
       "    .dataframe thead th {\n",
       "        text-align: right;\n",
       "    }\n",
       "</style>\n",
       "<table border=\"1\" class=\"dataframe\">\n",
       "  <thead>\n",
       "    <tr style=\"text-align: right;\">\n",
       "      <th></th>\n",
       "      <th>city</th>\n",
       "      <th>date</th>\n",
       "      <th>fare</th>\n",
       "      <th>ride_id</th>\n",
       "      <th>driver_count</th>\n",
       "      <th>type</th>\n",
       "    </tr>\n",
       "  </thead>\n",
       "  <tbody>\n",
       "    <tr>\n",
       "      <th>0</th>\n",
       "      <td>Lake Jonathanshire</td>\n",
       "      <td>2019-01-14 10:14:22</td>\n",
       "      <td>13.83</td>\n",
       "      <td>5739410935873</td>\n",
       "      <td>5</td>\n",
       "      <td>Urban</td>\n",
       "    </tr>\n",
       "    <tr>\n",
       "      <th>1</th>\n",
       "      <td>South Michelleport</td>\n",
       "      <td>2019-03-04 18:24:09</td>\n",
       "      <td>30.24</td>\n",
       "      <td>2343912425577</td>\n",
       "      <td>72</td>\n",
       "      <td>Urban</td>\n",
       "    </tr>\n",
       "    <tr>\n",
       "      <th>2</th>\n",
       "      <td>Port Samanthamouth</td>\n",
       "      <td>2019-02-24 04:29:00</td>\n",
       "      <td>33.44</td>\n",
       "      <td>2005065760003</td>\n",
       "      <td>57</td>\n",
       "      <td>Urban</td>\n",
       "    </tr>\n",
       "    <tr>\n",
       "      <th>3</th>\n",
       "      <td>Rodneyfort</td>\n",
       "      <td>2019-02-10 23:22:03</td>\n",
       "      <td>23.44</td>\n",
       "      <td>5149245426178</td>\n",
       "      <td>34</td>\n",
       "      <td>Urban</td>\n",
       "    </tr>\n",
       "    <tr>\n",
       "      <th>4</th>\n",
       "      <td>South Jack</td>\n",
       "      <td>2019-03-06 04:28:35</td>\n",
       "      <td>34.58</td>\n",
       "      <td>3908451377344</td>\n",
       "      <td>46</td>\n",
       "      <td>Urban</td>\n",
       "    </tr>\n",
       "  </tbody>\n",
       "</table>\n",
       "</div>"
      ],
      "text/plain": [
       "                 city                 date  fare        ride_id  driver_count  \\\n",
       "0  Lake Jonathanshire  2019-01-14 10:14:22 13.83  5739410935873             5   \n",
       "1  South Michelleport  2019-03-04 18:24:09 30.24  2343912425577            72   \n",
       "2  Port Samanthamouth  2019-02-24 04:29:00 33.44  2005065760003            57   \n",
       "3          Rodneyfort  2019-02-10 23:22:03 23.44  5149245426178            34   \n",
       "4          South Jack  2019-03-06 04:28:35 34.58  3908451377344            46   \n",
       "\n",
       "    type  \n",
       "0  Urban  \n",
       "1  Urban  \n",
       "2  Urban  \n",
       "3  Urban  \n",
       "4  Urban  "
      ]
     },
     "execution_count": 383,
     "metadata": {},
     "output_type": "execute_result"
    }
   ],
   "source": [
    "# Combine the data into a single dataset\n",
    "pyber_data_df = pd.merge(ride_data_df, city_data_df, how=\"left\", on=[\"city\", \"city\"])\n",
    "\n",
    "# Display the data table for preview\n",
    "pyber_data_df.head()"
   ]
  },
  {
   "cell_type": "markdown",
   "metadata": {},
   "source": [
    "## Challenge Deliverable 1. Generate a Ride-Sharing DataFrame by City Type"
   ]
  },
  {
   "cell_type": "code",
   "execution_count": 384,
   "metadata": {},
   "outputs": [
    {
     "data": {
      "text/plain": [
       "type\n",
       "Rural        125\n",
       "Suburban     625\n",
       "Urban       1625\n",
       "Name: ride_id, dtype: int64"
      ]
     },
     "execution_count": 384,
     "metadata": {},
     "output_type": "execute_result"
    }
   ],
   "source": [
    "#  1. Get the total rides for each city type\n",
    "\n",
    "total_rides = pyber_data_df.groupby([\"type\"]).count()[\"ride_id\"]\n",
    "total_rides"
   ]
  },
  {
   "cell_type": "code",
   "execution_count": 385,
   "metadata": {},
   "outputs": [
    {
     "data": {
      "text/plain": [
       "type\n",
       "Rural         78\n",
       "Suburban     490\n",
       "Urban       2405\n",
       "Name: driver_count, dtype: int64"
      ]
     },
     "execution_count": 385,
     "metadata": {},
     "output_type": "execute_result"
    }
   ],
   "source": [
    "# 2. Get the total drivers for each city type\n",
    "drivers_by_city = city_data_df.groupby([\"type\"]).sum()[\"driver_count\"]\n",
    "drivers_by_city"
   ]
  },
  {
   "cell_type": "code",
   "execution_count": 386,
   "metadata": {},
   "outputs": [
    {
     "data": {
      "text/plain": [
       "type\n",
       "Rural       4,327.93\n",
       "Suburban   19,356.33\n",
       "Urban      39,854.38\n",
       "Name: fare, dtype: float64"
      ]
     },
     "execution_count": 386,
     "metadata": {},
     "output_type": "execute_result"
    }
   ],
   "source": [
    "#  3. Get the total amount of fares for each city type\n",
    "fares_by_city = pyber_data_df.groupby([\"type\"]).sum()[\"fare\"]\n",
    "fares_by_city"
   ]
  },
  {
   "cell_type": "code",
   "execution_count": 387,
   "metadata": {},
   "outputs": [
    {
     "data": {
      "text/plain": [
       "type\n",
       "Rural      34.62\n",
       "Suburban   30.97\n",
       "Urban      24.53\n",
       "dtype: float64"
      ]
     },
     "execution_count": 387,
     "metadata": {},
     "output_type": "execute_result"
    }
   ],
   "source": [
    "#  4. Get the average fare per ride for each city type. \n",
    "average_fare_per_ride = fares_by_city / total_rides\n",
    "average_fare_per_ride"
   ]
  },
  {
   "cell_type": "code",
   "execution_count": 388,
   "metadata": {},
   "outputs": [
    {
     "data": {
      "text/plain": [
       "type\n",
       "Rural      55.49\n",
       "Suburban   39.50\n",
       "Urban      16.57\n",
       "dtype: float64"
      ]
     },
     "execution_count": 388,
     "metadata": {},
     "output_type": "execute_result"
    }
   ],
   "source": [
    "# 5. Get the average fare per driver for each city type. \n",
    "average_fare_per_driver = fares_by_city / drivers_by_city\n",
    "average_fare_per_driver\n"
   ]
  },
  {
   "cell_type": "code",
   "execution_count": 389,
   "metadata": {},
   "outputs": [
    {
     "data": {
      "text/html": [
       "<div>\n",
       "<style scoped>\n",
       "    .dataframe tbody tr th:only-of-type {\n",
       "        vertical-align: middle;\n",
       "    }\n",
       "\n",
       "    .dataframe tbody tr th {\n",
       "        vertical-align: top;\n",
       "    }\n",
       "\n",
       "    .dataframe thead th {\n",
       "        text-align: right;\n",
       "    }\n",
       "</style>\n",
       "<table border=\"1\" class=\"dataframe\">\n",
       "  <thead>\n",
       "    <tr style=\"text-align: right;\">\n",
       "      <th></th>\n",
       "      <th>Total Rides</th>\n",
       "      <th>Total Drivers</th>\n",
       "      <th>Total Fares</th>\n",
       "      <th>Average Fare Per Ride</th>\n",
       "      <th>Average Fare Per Driver</th>\n",
       "    </tr>\n",
       "    <tr>\n",
       "      <th>type</th>\n",
       "      <th></th>\n",
       "      <th></th>\n",
       "      <th></th>\n",
       "      <th></th>\n",
       "      <th></th>\n",
       "    </tr>\n",
       "  </thead>\n",
       "  <tbody>\n",
       "    <tr>\n",
       "      <th>Rural</th>\n",
       "      <td>125</td>\n",
       "      <td>78</td>\n",
       "      <td>4,327.93</td>\n",
       "      <td>34.62</td>\n",
       "      <td>55.49</td>\n",
       "    </tr>\n",
       "    <tr>\n",
       "      <th>Suburban</th>\n",
       "      <td>625</td>\n",
       "      <td>490</td>\n",
       "      <td>19,356.33</td>\n",
       "      <td>30.97</td>\n",
       "      <td>39.50</td>\n",
       "    </tr>\n",
       "    <tr>\n",
       "      <th>Urban</th>\n",
       "      <td>1625</td>\n",
       "      <td>2405</td>\n",
       "      <td>39,854.38</td>\n",
       "      <td>24.53</td>\n",
       "      <td>16.57</td>\n",
       "    </tr>\n",
       "  </tbody>\n",
       "</table>\n",
       "</div>"
      ],
      "text/plain": [
       "          Total Rides  Total Drivers  Total Fares  Average Fare Per Ride  \\\n",
       "type                                                                       \n",
       "Rural             125             78     4,327.93                  34.62   \n",
       "Suburban          625            490    19,356.33                  30.97   \n",
       "Urban            1625           2405    39,854.38                  24.53   \n",
       "\n",
       "          Average Fare Per Driver  \n",
       "type                               \n",
       "Rural                       55.49  \n",
       "Suburban                    39.50  \n",
       "Urban                       16.57  "
      ]
     },
     "execution_count": 389,
     "metadata": {},
     "output_type": "execute_result"
    }
   ],
   "source": [
    "#  6. Create a PyBer summary DataFrame. \n",
    "pyber_summary_df = pd.DataFrame(\n",
    "    {\"Total Rides\": total_rides, \"Total Drivers\": drivers_by_city, \"Total Fares\": fares_by_city, \"Average Fare Per Ride\": average_fare_per_ride, \"Average Fare Per Driver\": average_fare_per_driver})\n",
    "\n",
    "pyber_summary_df.head()\n"
   ]
  },
  {
   "cell_type": "code",
   "execution_count": 390,
   "metadata": {},
   "outputs": [],
   "source": [
    "#  7. Cleaning up the DataFrame. Delete the index name\n",
    "pyber_summary_df.index.name = None"
   ]
  },
  {
   "cell_type": "code",
   "execution_count": 391,
   "metadata": {},
   "outputs": [
    {
     "data": {
      "text/html": [
       "<div>\n",
       "<style scoped>\n",
       "    .dataframe tbody tr th:only-of-type {\n",
       "        vertical-align: middle;\n",
       "    }\n",
       "\n",
       "    .dataframe tbody tr th {\n",
       "        vertical-align: top;\n",
       "    }\n",
       "\n",
       "    .dataframe thead th {\n",
       "        text-align: right;\n",
       "    }\n",
       "</style>\n",
       "<table border=\"1\" class=\"dataframe\">\n",
       "  <thead>\n",
       "    <tr style=\"text-align: right;\">\n",
       "      <th></th>\n",
       "      <th>Total Rides</th>\n",
       "      <th>Total Drivers</th>\n",
       "      <th>Total Fares</th>\n",
       "      <th>Average Fare Per Ride</th>\n",
       "      <th>Average Fare Per Driver</th>\n",
       "    </tr>\n",
       "  </thead>\n",
       "  <tbody>\n",
       "    <tr>\n",
       "      <th>Rural</th>\n",
       "      <td>125</td>\n",
       "      <td>78</td>\n",
       "      <td>$4,327.93</td>\n",
       "      <td>$34.62</td>\n",
       "      <td>$55.49</td>\n",
       "    </tr>\n",
       "    <tr>\n",
       "      <th>Suburban</th>\n",
       "      <td>625</td>\n",
       "      <td>490</td>\n",
       "      <td>$19,356.33</td>\n",
       "      <td>$30.97</td>\n",
       "      <td>$39.50</td>\n",
       "    </tr>\n",
       "    <tr>\n",
       "      <th>Urban</th>\n",
       "      <td>1,625</td>\n",
       "      <td>2,405</td>\n",
       "      <td>$39,854.38</td>\n",
       "      <td>$24.53</td>\n",
       "      <td>$16.57</td>\n",
       "    </tr>\n",
       "  </tbody>\n",
       "</table>\n",
       "</div>"
      ],
      "text/plain": [
       "         Total Rides Total Drivers Total Fares Average Fare Per Ride  \\\n",
       "Rural            125            78   $4,327.93                $34.62   \n",
       "Suburban         625           490  $19,356.33                $30.97   \n",
       "Urban          1,625         2,405  $39,854.38                $24.53   \n",
       "\n",
       "         Average Fare Per Driver  \n",
       "Rural                     $55.49  \n",
       "Suburban                  $39.50  \n",
       "Urban                     $16.57  "
      ]
     },
     "execution_count": 391,
     "metadata": {},
     "output_type": "execute_result"
    }
   ],
   "source": [
    "#  8. Format the columns.\n",
    "pyber_summary_df[\"Total Rides\"] = pyber_summary_df[\"Total Rides\"].map('{:,.0f}'.format)\n",
    "pyber_summary_df[\"Total Drivers\"] = pyber_summary_df[\"Total Drivers\"].map('{:,.0f}'.format)\n",
    "pyber_summary_df[\"Total Fares\"] =pyber_summary_df[\"Total Fares\"].map('${:,.2f}'.format)\n",
    "pyber_summary_df[\"Average Fare Per Ride\"] = pyber_summary_df[\"Average Fare Per Ride\"].map('${:,.2f}'.format)\n",
    "pyber_summary_df[\"Average Fare Per Driver\"] = pyber_summary_df[\"Average Fare Per Driver\"].map('${:,.2f}'.format)\n",
    "pyber_summary_df"
   ]
  },
  {
   "cell_type": "markdown",
   "metadata": {},
   "source": [
    "## Deliverable 2.  Create a multiple line plot that shows the total weekly of the fares for each type of city."
   ]
  },
  {
   "cell_type": "code",
   "execution_count": 392,
   "metadata": {},
   "outputs": [
    {
     "data": {
      "text/html": [
       "<div>\n",
       "<style scoped>\n",
       "    .dataframe tbody tr th:only-of-type {\n",
       "        vertical-align: middle;\n",
       "    }\n",
       "\n",
       "    .dataframe tbody tr th {\n",
       "        vertical-align: top;\n",
       "    }\n",
       "\n",
       "    .dataframe thead th {\n",
       "        text-align: right;\n",
       "    }\n",
       "</style>\n",
       "<table border=\"1\" class=\"dataframe\">\n",
       "  <thead>\n",
       "    <tr style=\"text-align: right;\">\n",
       "      <th></th>\n",
       "      <th>Total Rides</th>\n",
       "      <th>Total Drivers</th>\n",
       "      <th>Total Fares</th>\n",
       "      <th>Average Fare Per Ride</th>\n",
       "      <th>Average Fare Per Driver</th>\n",
       "    </tr>\n",
       "  </thead>\n",
       "  <tbody>\n",
       "    <tr>\n",
       "      <th>Rural</th>\n",
       "      <td>125</td>\n",
       "      <td>78</td>\n",
       "      <td>$4,327.93</td>\n",
       "      <td>$34.62</td>\n",
       "      <td>$55.49</td>\n",
       "    </tr>\n",
       "    <tr>\n",
       "      <th>Suburban</th>\n",
       "      <td>625</td>\n",
       "      <td>490</td>\n",
       "      <td>$19,356.33</td>\n",
       "      <td>$30.97</td>\n",
       "      <td>$39.50</td>\n",
       "    </tr>\n",
       "    <tr>\n",
       "      <th>Urban</th>\n",
       "      <td>1,625</td>\n",
       "      <td>2,405</td>\n",
       "      <td>$39,854.38</td>\n",
       "      <td>$24.53</td>\n",
       "      <td>$16.57</td>\n",
       "    </tr>\n",
       "  </tbody>\n",
       "</table>\n",
       "</div>"
      ],
      "text/plain": [
       "         Total Rides Total Drivers Total Fares Average Fare Per Ride  \\\n",
       "Rural            125            78   $4,327.93                $34.62   \n",
       "Suburban         625           490  $19,356.33                $30.97   \n",
       "Urban          1,625         2,405  $39,854.38                $24.53   \n",
       "\n",
       "         Average Fare Per Driver  \n",
       "Rural                     $55.49  \n",
       "Suburban                  $39.50  \n",
       "Urban                     $16.57  "
      ]
     },
     "execution_count": 392,
     "metadata": {},
     "output_type": "execute_result"
    }
   ],
   "source": [
    "# Print the merged DataFrame for reference.\n",
    "pyber_summary_df\n"
   ]
  },
  {
   "cell_type": "code",
   "execution_count": 393,
   "metadata": {},
   "outputs": [
    {
     "data": {
      "text/plain": [
       "type   date               \n",
       "Rural  2019-01-01 09:45:36   43.69\n",
       "       2019-01-02 11:18:32   52.12\n",
       "       2019-01-03 19:51:01   19.90\n",
       "       2019-01-04 03:31:26   24.88\n",
       "       2019-01-06 07:38:40   47.33\n",
       "Name: fare, dtype: float64"
      ]
     },
     "execution_count": 393,
     "metadata": {},
     "output_type": "execute_result"
    }
   ],
   "source": [
    "# 1. Using groupby() to create a new DataFrame showing the sum of the fares \n",
    "#  for each date where the indices are the city type and date.\n",
    "\n",
    "fare_df = pyber_data_df.groupby([\"type\",\"date\"]).sum()[\"fare\"]\n",
    "fare_df.head()\n"
   ]
  },
  {
   "cell_type": "code",
   "execution_count": 394,
   "metadata": {},
   "outputs": [],
   "source": [
    "# 2. Reset the index on the DataFrame you created in #1. This is needed to use the 'pivot()' function.\n",
    "fare_df = fare_df.reset_index()\n"
   ]
  },
  {
   "cell_type": "code",
   "execution_count": 395,
   "metadata": {},
   "outputs": [
    {
     "data": {
      "text/html": [
       "<div>\n",
       "<style scoped>\n",
       "    .dataframe tbody tr th:only-of-type {\n",
       "        vertical-align: middle;\n",
       "    }\n",
       "\n",
       "    .dataframe tbody tr th {\n",
       "        vertical-align: top;\n",
       "    }\n",
       "\n",
       "    .dataframe thead th {\n",
       "        text-align: right;\n",
       "    }\n",
       "</style>\n",
       "<table border=\"1\" class=\"dataframe\">\n",
       "  <thead>\n",
       "    <tr style=\"text-align: right;\">\n",
       "      <th>type</th>\n",
       "      <th>Rural</th>\n",
       "      <th>Suburban</th>\n",
       "      <th>Urban</th>\n",
       "    </tr>\n",
       "    <tr>\n",
       "      <th>date</th>\n",
       "      <th></th>\n",
       "      <th></th>\n",
       "      <th></th>\n",
       "    </tr>\n",
       "  </thead>\n",
       "  <tbody>\n",
       "    <tr>\n",
       "      <th>2019-01-01 00:08:16</th>\n",
       "      <td>NaN</td>\n",
       "      <td>NaN</td>\n",
       "      <td>37.91</td>\n",
       "    </tr>\n",
       "    <tr>\n",
       "      <th>2019-01-01 00:46:46</th>\n",
       "      <td>NaN</td>\n",
       "      <td>47.74</td>\n",
       "      <td>NaN</td>\n",
       "    </tr>\n",
       "    <tr>\n",
       "      <th>2019-01-01 02:07:24</th>\n",
       "      <td>NaN</td>\n",
       "      <td>24.07</td>\n",
       "      <td>NaN</td>\n",
       "    </tr>\n",
       "    <tr>\n",
       "      <th>2019-01-01 03:46:50</th>\n",
       "      <td>NaN</td>\n",
       "      <td>NaN</td>\n",
       "      <td>7.57</td>\n",
       "    </tr>\n",
       "    <tr>\n",
       "      <th>2019-01-01 05:23:21</th>\n",
       "      <td>NaN</td>\n",
       "      <td>NaN</td>\n",
       "      <td>10.75</td>\n",
       "    </tr>\n",
       "    <tr>\n",
       "      <th>...</th>\n",
       "      <td>...</td>\n",
       "      <td>...</td>\n",
       "      <td>...</td>\n",
       "    </tr>\n",
       "    <tr>\n",
       "      <th>2019-05-08 04:20:00</th>\n",
       "      <td>NaN</td>\n",
       "      <td>NaN</td>\n",
       "      <td>21.99</td>\n",
       "    </tr>\n",
       "    <tr>\n",
       "      <th>2019-05-08 04:39:49</th>\n",
       "      <td>NaN</td>\n",
       "      <td>NaN</td>\n",
       "      <td>18.45</td>\n",
       "    </tr>\n",
       "    <tr>\n",
       "      <th>2019-05-08 07:29:01</th>\n",
       "      <td>NaN</td>\n",
       "      <td>NaN</td>\n",
       "      <td>18.55</td>\n",
       "    </tr>\n",
       "    <tr>\n",
       "      <th>2019-05-08 11:38:35</th>\n",
       "      <td>NaN</td>\n",
       "      <td>NaN</td>\n",
       "      <td>19.77</td>\n",
       "    </tr>\n",
       "    <tr>\n",
       "      <th>2019-05-08 13:10:18</th>\n",
       "      <td>NaN</td>\n",
       "      <td>NaN</td>\n",
       "      <td>18.04</td>\n",
       "    </tr>\n",
       "  </tbody>\n",
       "</table>\n",
       "<p>2375 rows × 3 columns</p>\n",
       "</div>"
      ],
      "text/plain": [
       "type                 Rural  Suburban  Urban\n",
       "date                                       \n",
       "2019-01-01 00:08:16    NaN       NaN  37.91\n",
       "2019-01-01 00:46:46    NaN     47.74    NaN\n",
       "2019-01-01 02:07:24    NaN     24.07    NaN\n",
       "2019-01-01 03:46:50    NaN       NaN   7.57\n",
       "2019-01-01 05:23:21    NaN       NaN  10.75\n",
       "...                    ...       ...    ...\n",
       "2019-05-08 04:20:00    NaN       NaN  21.99\n",
       "2019-05-08 04:39:49    NaN       NaN  18.45\n",
       "2019-05-08 07:29:01    NaN       NaN  18.55\n",
       "2019-05-08 11:38:35    NaN       NaN  19.77\n",
       "2019-05-08 13:10:18    NaN       NaN  18.04\n",
       "\n",
       "[2375 rows x 3 columns]"
      ]
     },
     "execution_count": 395,
     "metadata": {},
     "output_type": "execute_result"
    }
   ],
   "source": [
    "# 3. Create a pivot table with the 'date' as the index, the columns ='type', and values='fare' \n",
    "# to get the total fares for each type of city by the date. \n",
    "fare_df = pyber_data_df.pivot(index = \"date\", columns = \"type\", values = \"fare\")\n",
    "fare_df\n",
    "\n"
   ]
  },
  {
   "cell_type": "code",
   "execution_count": 396,
   "metadata": {},
   "outputs": [
    {
     "data": {
      "text/html": [
       "<div>\n",
       "<style scoped>\n",
       "    .dataframe tbody tr th:only-of-type {\n",
       "        vertical-align: middle;\n",
       "    }\n",
       "\n",
       "    .dataframe tbody tr th {\n",
       "        vertical-align: top;\n",
       "    }\n",
       "\n",
       "    .dataframe thead th {\n",
       "        text-align: right;\n",
       "    }\n",
       "</style>\n",
       "<table border=\"1\" class=\"dataframe\">\n",
       "  <thead>\n",
       "    <tr style=\"text-align: right;\">\n",
       "      <th>type</th>\n",
       "      <th>Rural</th>\n",
       "      <th>Suburban</th>\n",
       "      <th>Urban</th>\n",
       "    </tr>\n",
       "    <tr>\n",
       "      <th>date</th>\n",
       "      <th></th>\n",
       "      <th></th>\n",
       "      <th></th>\n",
       "    </tr>\n",
       "  </thead>\n",
       "  <tbody>\n",
       "    <tr>\n",
       "      <th>2019-01-01 00:08:16</th>\n",
       "      <td>NaN</td>\n",
       "      <td>NaN</td>\n",
       "      <td>37.91</td>\n",
       "    </tr>\n",
       "    <tr>\n",
       "      <th>2019-01-01 00:46:46</th>\n",
       "      <td>NaN</td>\n",
       "      <td>47.74</td>\n",
       "      <td>NaN</td>\n",
       "    </tr>\n",
       "    <tr>\n",
       "      <th>2019-01-01 02:07:24</th>\n",
       "      <td>NaN</td>\n",
       "      <td>24.07</td>\n",
       "      <td>NaN</td>\n",
       "    </tr>\n",
       "    <tr>\n",
       "      <th>2019-01-01 03:46:50</th>\n",
       "      <td>NaN</td>\n",
       "      <td>NaN</td>\n",
       "      <td>7.57</td>\n",
       "    </tr>\n",
       "    <tr>\n",
       "      <th>2019-01-01 05:23:21</th>\n",
       "      <td>NaN</td>\n",
       "      <td>NaN</td>\n",
       "      <td>10.75</td>\n",
       "    </tr>\n",
       "    <tr>\n",
       "      <th>...</th>\n",
       "      <td>...</td>\n",
       "      <td>...</td>\n",
       "      <td>...</td>\n",
       "    </tr>\n",
       "    <tr>\n",
       "      <th>2019-04-27 17:58:27</th>\n",
       "      <td>14.01</td>\n",
       "      <td>NaN</td>\n",
       "      <td>NaN</td>\n",
       "    </tr>\n",
       "    <tr>\n",
       "      <th>2019-04-27 19:45:48</th>\n",
       "      <td>NaN</td>\n",
       "      <td>28.84</td>\n",
       "      <td>NaN</td>\n",
       "    </tr>\n",
       "    <tr>\n",
       "      <th>2019-04-27 20:41:36</th>\n",
       "      <td>NaN</td>\n",
       "      <td>NaN</td>\n",
       "      <td>8.28</td>\n",
       "    </tr>\n",
       "    <tr>\n",
       "      <th>2019-04-27 23:26:03</th>\n",
       "      <td>NaN</td>\n",
       "      <td>NaN</td>\n",
       "      <td>19.06</td>\n",
       "    </tr>\n",
       "    <tr>\n",
       "      <th>2019-04-27 23:52:44</th>\n",
       "      <td>NaN</td>\n",
       "      <td>45.98</td>\n",
       "      <td>NaN</td>\n",
       "    </tr>\n",
       "  </tbody>\n",
       "</table>\n",
       "<p>2177 rows × 3 columns</p>\n",
       "</div>"
      ],
      "text/plain": [
       "type                 Rural  Suburban  Urban\n",
       "date                                       \n",
       "2019-01-01 00:08:16    NaN       NaN  37.91\n",
       "2019-01-01 00:46:46    NaN     47.74    NaN\n",
       "2019-01-01 02:07:24    NaN     24.07    NaN\n",
       "2019-01-01 03:46:50    NaN       NaN   7.57\n",
       "2019-01-01 05:23:21    NaN       NaN  10.75\n",
       "...                    ...       ...    ...\n",
       "2019-04-27 17:58:27  14.01       NaN    NaN\n",
       "2019-04-27 19:45:48    NaN     28.84    NaN\n",
       "2019-04-27 20:41:36    NaN       NaN   8.28\n",
       "2019-04-27 23:26:03    NaN       NaN  19.06\n",
       "2019-04-27 23:52:44    NaN     45.98    NaN\n",
       "\n",
       "[2177 rows x 3 columns]"
      ]
     },
     "execution_count": 396,
     "metadata": {},
     "output_type": "execute_result"
    }
   ],
   "source": [
    "# 4. Create a new DataFrame from the pivot table DataFrame using loc on the given dates, '2019-01-01':'2019-04-28'.\n",
    "fare_pivot_df = fare_df.loc['2019-01-01':'2019-04-28']\n",
    "fare_pivot_df\n",
    "\n"
   ]
  },
  {
   "cell_type": "code",
   "execution_count": 403,
   "metadata": {},
   "outputs": [],
   "source": [
    "# 5. Set the \"date\" index to datetime datatype. This is necessary to use the resample() method in Step 8.\n",
    "fare_pivot_df.index = pd.to_datetime(fare_pivot_df.index)"
   ]
  },
  {
   "cell_type": "code",
   "execution_count": 404,
   "metadata": {},
   "outputs": [
    {
     "name": "stdout",
     "output_type": "stream",
     "text": [
      "<class 'pandas.core.frame.DataFrame'>\n",
      "DatetimeIndex: 2177 entries, 2019-01-01 00:08:16 to 2019-04-27 23:52:44\n",
      "Data columns (total 3 columns):\n",
      " #   Column    Non-Null Count  Dtype  \n",
      "---  ------    --------------  -----  \n",
      " 0   Rural     114 non-null    float64\n",
      " 1   Suburban  567 non-null    float64\n",
      " 2   Urban     1496 non-null   float64\n",
      "dtypes: float64(3)\n",
      "memory usage: 68.0 KB\n"
     ]
    }
   ],
   "source": [
    "# 6. Check that the datatype for the index is datetime using df.info()\n",
    "fare_pivot_df.info()"
   ]
  },
  {
   "cell_type": "code",
   "execution_count": 405,
   "metadata": {},
   "outputs": [
    {
     "data": {
      "text/html": [
       "<div>\n",
       "<style scoped>\n",
       "    .dataframe tbody tr th:only-of-type {\n",
       "        vertical-align: middle;\n",
       "    }\n",
       "\n",
       "    .dataframe tbody tr th {\n",
       "        vertical-align: top;\n",
       "    }\n",
       "\n",
       "    .dataframe thead th {\n",
       "        text-align: right;\n",
       "    }\n",
       "</style>\n",
       "<table border=\"1\" class=\"dataframe\">\n",
       "  <thead>\n",
       "    <tr style=\"text-align: right;\">\n",
       "      <th>type</th>\n",
       "      <th>Rural</th>\n",
       "      <th>Suburban</th>\n",
       "      <th>Urban</th>\n",
       "    </tr>\n",
       "    <tr>\n",
       "      <th>date</th>\n",
       "      <th></th>\n",
       "      <th></th>\n",
       "      <th></th>\n",
       "    </tr>\n",
       "  </thead>\n",
       "  <tbody>\n",
       "    <tr>\n",
       "      <th>2019-01-06</th>\n",
       "      <td>187.92</td>\n",
       "      <td>721.60</td>\n",
       "      <td>1,661.68</td>\n",
       "    </tr>\n",
       "    <tr>\n",
       "      <th>2019-01-13</th>\n",
       "      <td>67.65</td>\n",
       "      <td>1,105.13</td>\n",
       "      <td>2,050.43</td>\n",
       "    </tr>\n",
       "    <tr>\n",
       "      <th>2019-01-20</th>\n",
       "      <td>306.00</td>\n",
       "      <td>1,218.20</td>\n",
       "      <td>1,939.02</td>\n",
       "    </tr>\n",
       "    <tr>\n",
       "      <th>2019-01-27</th>\n",
       "      <td>179.69</td>\n",
       "      <td>1,203.28</td>\n",
       "      <td>2,129.51</td>\n",
       "    </tr>\n",
       "    <tr>\n",
       "      <th>2019-02-03</th>\n",
       "      <td>333.08</td>\n",
       "      <td>1,042.79</td>\n",
       "      <td>2,086.94</td>\n",
       "    </tr>\n",
       "    <tr>\n",
       "      <th>2019-02-10</th>\n",
       "      <td>115.80</td>\n",
       "      <td>974.34</td>\n",
       "      <td>2,162.64</td>\n",
       "    </tr>\n",
       "    <tr>\n",
       "      <th>2019-02-17</th>\n",
       "      <td>95.82</td>\n",
       "      <td>1,045.50</td>\n",
       "      <td>2,235.07</td>\n",
       "    </tr>\n",
       "    <tr>\n",
       "      <th>2019-02-24</th>\n",
       "      <td>419.06</td>\n",
       "      <td>1,412.74</td>\n",
       "      <td>2,466.29</td>\n",
       "    </tr>\n",
       "    <tr>\n",
       "      <th>2019-03-03</th>\n",
       "      <td>175.14</td>\n",
       "      <td>858.46</td>\n",
       "      <td>2,218.20</td>\n",
       "    </tr>\n",
       "    <tr>\n",
       "      <th>2019-03-10</th>\n",
       "      <td>303.94</td>\n",
       "      <td>925.27</td>\n",
       "      <td>2,470.93</td>\n",
       "    </tr>\n",
       "    <tr>\n",
       "      <th>2019-03-17</th>\n",
       "      <td>163.39</td>\n",
       "      <td>906.20</td>\n",
       "      <td>2,044.42</td>\n",
       "    </tr>\n",
       "    <tr>\n",
       "      <th>2019-03-24</th>\n",
       "      <td>189.76</td>\n",
       "      <td>1,122.20</td>\n",
       "      <td>2,368.37</td>\n",
       "    </tr>\n",
       "    <tr>\n",
       "      <th>2019-03-31</th>\n",
       "      <td>199.42</td>\n",
       "      <td>1,045.06</td>\n",
       "      <td>1,942.77</td>\n",
       "    </tr>\n",
       "    <tr>\n",
       "      <th>2019-04-07</th>\n",
       "      <td>501.24</td>\n",
       "      <td>1,010.73</td>\n",
       "      <td>2,356.70</td>\n",
       "    </tr>\n",
       "    <tr>\n",
       "      <th>2019-04-14</th>\n",
       "      <td>269.79</td>\n",
       "      <td>784.82</td>\n",
       "      <td>2,390.72</td>\n",
       "    </tr>\n",
       "    <tr>\n",
       "      <th>2019-04-21</th>\n",
       "      <td>214.14</td>\n",
       "      <td>1,149.27</td>\n",
       "      <td>2,303.80</td>\n",
       "    </tr>\n",
       "    <tr>\n",
       "      <th>2019-04-28</th>\n",
       "      <td>191.85</td>\n",
       "      <td>1,169.04</td>\n",
       "      <td>1,909.51</td>\n",
       "    </tr>\n",
       "  </tbody>\n",
       "</table>\n",
       "</div>"
      ],
      "text/plain": [
       "type        Rural  Suburban    Urban\n",
       "date                                \n",
       "2019-01-06 187.92    721.60 1,661.68\n",
       "2019-01-13  67.65  1,105.13 2,050.43\n",
       "2019-01-20 306.00  1,218.20 1,939.02\n",
       "2019-01-27 179.69  1,203.28 2,129.51\n",
       "2019-02-03 333.08  1,042.79 2,086.94\n",
       "2019-02-10 115.80    974.34 2,162.64\n",
       "2019-02-17  95.82  1,045.50 2,235.07\n",
       "2019-02-24 419.06  1,412.74 2,466.29\n",
       "2019-03-03 175.14    858.46 2,218.20\n",
       "2019-03-10 303.94    925.27 2,470.93\n",
       "2019-03-17 163.39    906.20 2,044.42\n",
       "2019-03-24 189.76  1,122.20 2,368.37\n",
       "2019-03-31 199.42  1,045.06 1,942.77\n",
       "2019-04-07 501.24  1,010.73 2,356.70\n",
       "2019-04-14 269.79    784.82 2,390.72\n",
       "2019-04-21 214.14  1,149.27 2,303.80\n",
       "2019-04-28 191.85  1,169.04 1,909.51"
      ]
     },
     "execution_count": 405,
     "metadata": {},
     "output_type": "execute_result"
    }
   ],
   "source": [
    "# 7. Create a new DataFrame using the \"resample()\" function by week 'W' and get the sum of the fares for each week.\n",
    "\n",
    "fare_pivot_df = fare_pivot_df.resample(\"W\").sum()\n",
    "fare_pivot_df\n"
   ]
  },
  {
   "cell_type": "code",
   "execution_count": 410,
   "metadata": {},
   "outputs": [
    {
     "data": {
      "application/vnd.jupyter.widget-view+json": {
       "model_id": "1f5319d1f74743d7ad6248de73fa345e",
       "version_major": 2,
       "version_minor": 0
      },
      "image/png": "[encoded data removed]",
      "text/html": [
       "\n",
       "            <div style=\"display: inline-block;\">\n",
       "                <div class=\"jupyter-widgets widget-label\" style=\"text-align: center;\">\n",
       "                    Figure\n",
       "                </div>\n",
       "                <img src='data:image/png;base64,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' width=800.0/>\n",
       "            </div>\n",
       "        "
      ],
      "text/plain": [
       "Canvas(toolbar=Toolbar(toolitems=[('Home', 'Reset original view', 'home', 'home'), ('Back', 'Back to previous …"
      ]
     },
     "metadata": {},
     "output_type": "display_data"
    }
   ],
   "source": [
    "# 8. Using the object-oriented interface method, plot the resample DataFrame using the df.plot() function. \n",
    "fare_pivot_df.plot(figsize =(8,6))\n",
    "\n",
    "\n",
    "# Import the style from Matplotlib.\n",
    "from matplotlib import style\n",
    "# Use the graph style fivethirtyeight.\n",
    "\n",
    "plt.title(\"Total Fare by City\")\n",
    "plt.ylabel(\"Fare ($)\")\n",
    "plt.xlabel(\"Month\")\n",
    "style.use('fivethirtyeight')\n",
    "plt.show()\n",
    "\n"
   ]
  },
  {
   "cell_type": "code",
   "execution_count": null,
   "metadata": {},
   "outputs": [],
   "source": []
  }
 ],
 "metadata": {
  "anaconda-cloud": {},
  "kernelspec": {
   "display_name": "Python 3 (ipykernel)",
   "language": "python",
   "name": "python3"
  },
  "language_info": {
   "codemirror_mode": {
    "name": "ipython",
    "version": 3
   },
   "file_extension": ".py",
   "mimetype": "text/x-python",
   "name": "python",
   "nbconvert_exporter": "python",
   "pygments_lexer": "ipython3",
   "version": "3.7.15"
  }
 },
 "nbformat": 4,
 "nbformat_minor": 2
}
